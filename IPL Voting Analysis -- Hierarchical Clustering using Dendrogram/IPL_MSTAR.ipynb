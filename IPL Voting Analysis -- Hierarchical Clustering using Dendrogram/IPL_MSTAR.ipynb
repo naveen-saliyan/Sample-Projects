{
 "cells": [
  {
   "cell_type": "code",
   "execution_count": 1,
   "metadata": {
    "collapsed": true
   },
   "outputs": [],
   "source": [
    "import pandas as pd\n",
    "import numpy as np\n",
    "from scipy.cluster.hierarchy import linkage, dendrogram\n",
    "import matplotlib.pyplot as plt\n",
    "from sklearn.preprocessing import normalize"
   ]
  },
  {
   "cell_type": "code",
   "execution_count": 2,
   "metadata": {
    "collapsed": true
   },
   "outputs": [],
   "source": [
    "ipl=pd.read_excel('C:/Naveen/datacamp/InternalProj/AK_IPL.xlsx')"
   ]
  },
  {
   "cell_type": "code",
   "execution_count": 3,
   "metadata": {},
   "outputs": [
    {
     "data": {
      "text/plain": [
       "Index(['Match#', 'Date', 'Time (IST)', 'Match', 'WINNER', 'Venue', 'Anand',\n",
       "       'Paris', 'Megha', 'Veni', 'Priya', 'Ashok', 'G3R', 'Madhan', 'Raj',\n",
       "       'Thimma', 'Surajit', 'Naveen', 'Raghu', 'Manasa', 'Anil', 'Sridhar',\n",
       "       'Sanjeeth', 'Anand P', 'Diwakar', 'Manish', 'Murali', 'Unnamed: 27',\n",
       "       'Anand.1', 'Paris.1', 'Megha.1', 'Veni.1', 'Priya.1', 'Ashok.1',\n",
       "       'G3R.1', 'Madhan.1', 'Raj.1', 'Thimma.1', 'Surajit.1', 'Naveen.1',\n",
       "       'Raghu.1', 'Manasa.1', 'Anil.1', 'Sridhar.1', 'Sanjeeth.1', 'Anand P.1',\n",
       "       'Diwakar.1', 'Manish.1', 'Murali.1'],\n",
       "      dtype='object')"
      ]
     },
     "execution_count": 3,
     "metadata": {},
     "output_type": "execute_result"
    }
   ],
   "source": [
    "#ipl.shape\n",
    "\n",
    "ipl.columns"
   ]
  },
  {
   "cell_type": "code",
   "execution_count": 10,
   "metadata": {
    "collapsed": true
   },
   "outputs": [],
   "source": [
    "#Select required columns only\n",
    "\n",
    "ipl1=ipl.loc[:,['Match#', 'Date', 'Time (IST)', 'Match', 'WINNER', 'Venue', 'Anand',\n",
    "       'Paris', 'Megha', 'Veni', 'Priya', 'Ashok', 'G3R', 'Madhan', 'Raj',\n",
    "       'Thimma', 'Surajit', 'Naveen', 'Raghu', 'Manasa', 'Anil', 'Sridhar',\n",
    "       'Sanjeeth', 'Anand P', 'Diwakar', 'Manish', 'Murali',]]"
   ]
  },
  {
   "cell_type": "code",
   "execution_count": 11,
   "metadata": {
    "collapsed": true
   },
   "outputs": [],
   "source": [
    "#Select required rows only\n",
    "\n",
    "ipl1=ipl1.loc[:15,:] # Match 15th got over on 20th April"
   ]
  },
  {
   "cell_type": "code",
   "execution_count": 6,
   "metadata": {
    "collapsed": true
   },
   "outputs": [],
   "source": [
    "#Create a dictionary tag a number to corresponding team\n",
    "\n",
    "dict= {'RCB':1,'CSK':2,'MI':3,'SRH':4,'KKR':5,'DD':6,'RR':7,'KXI':8}\n"
   ]
  },
  {
   "cell_type": "code",
   "execution_count": 15,
   "metadata": {},
   "outputs": [
    {
     "data": {
      "text/html": [
       "<div>\n",
       "<style>\n",
       "    .dataframe thead tr:only-child th {\n",
       "        text-align: right;\n",
       "    }\n",
       "\n",
       "    .dataframe thead th {\n",
       "        text-align: left;\n",
       "    }\n",
       "\n",
       "    .dataframe tbody tr th {\n",
       "        vertical-align: top;\n",
       "    }\n",
       "</style>\n",
       "<table border=\"1\" class=\"dataframe\">\n",
       "  <thead>\n",
       "    <tr style=\"text-align: right;\">\n",
       "      <th></th>\n",
       "      <th>0</th>\n",
       "      <th>1</th>\n",
       "      <th>2</th>\n",
       "      <th>3</th>\n",
       "      <th>4</th>\n",
       "      <th>5</th>\n",
       "      <th>6</th>\n",
       "      <th>7</th>\n",
       "      <th>8</th>\n",
       "      <th>9</th>\n",
       "      <th>10</th>\n",
       "      <th>11</th>\n",
       "      <th>12</th>\n",
       "      <th>13</th>\n",
       "      <th>14</th>\n",
       "      <th>15</th>\n",
       "    </tr>\n",
       "  </thead>\n",
       "  <tbody>\n",
       "    <tr>\n",
       "      <th>Anand</th>\n",
       "      <td>2</td>\n",
       "      <td>8</td>\n",
       "      <td>1</td>\n",
       "      <td>4</td>\n",
       "      <td>2</td>\n",
       "      <td>6</td>\n",
       "      <td>3</td>\n",
       "      <td>1</td>\n",
       "      <td>3</td>\n",
       "      <td>5</td>\n",
       "      <td>1</td>\n",
       "      <td>8</td>\n",
       "      <td>5</td>\n",
       "      <td>1</td>\n",
       "      <td>5</td>\n",
       "      <td>8</td>\n",
       "    </tr>\n",
       "    <tr>\n",
       "      <th>Paris</th>\n",
       "      <td>2</td>\n",
       "      <td>8</td>\n",
       "      <td>1</td>\n",
       "      <td>4</td>\n",
       "      <td>2</td>\n",
       "      <td>7</td>\n",
       "      <td>3</td>\n",
       "      <td>1</td>\n",
       "      <td>3</td>\n",
       "      <td>5</td>\n",
       "      <td>1</td>\n",
       "      <td>2</td>\n",
       "      <td>5</td>\n",
       "      <td>1</td>\n",
       "      <td>7</td>\n",
       "      <td>4</td>\n",
       "    </tr>\n",
       "    <tr>\n",
       "      <th>Megha</th>\n",
       "      <td>2</td>\n",
       "      <td>6</td>\n",
       "      <td>1</td>\n",
       "      <td>4</td>\n",
       "      <td>2</td>\n",
       "      <td>7</td>\n",
       "      <td>3</td>\n",
       "      <td>1</td>\n",
       "      <td>3</td>\n",
       "      <td>4</td>\n",
       "      <td>1</td>\n",
       "      <td>2</td>\n",
       "      <td>5</td>\n",
       "      <td>1</td>\n",
       "      <td>5</td>\n",
       "      <td>4</td>\n",
       "    </tr>\n",
       "    <tr>\n",
       "      <th>Veni</th>\n",
       "      <td>2</td>\n",
       "      <td>8</td>\n",
       "      <td>5</td>\n",
       "      <td>4</td>\n",
       "      <td>2</td>\n",
       "      <td>6</td>\n",
       "      <td>3</td>\n",
       "      <td>1</td>\n",
       "      <td>3</td>\n",
       "      <td>5</td>\n",
       "      <td>1</td>\n",
       "      <td>2</td>\n",
       "      <td>5</td>\n",
       "      <td>1</td>\n",
       "      <td>5</td>\n",
       "      <td>8</td>\n",
       "    </tr>\n",
       "    <tr>\n",
       "      <th>Priya</th>\n",
       "      <td>2</td>\n",
       "      <td>8</td>\n",
       "      <td>1</td>\n",
       "      <td>4</td>\n",
       "      <td>2</td>\n",
       "      <td>6</td>\n",
       "      <td>3</td>\n",
       "      <td>1</td>\n",
       "      <td>3</td>\n",
       "      <td>4</td>\n",
       "      <td>1</td>\n",
       "      <td>2</td>\n",
       "      <td>5</td>\n",
       "      <td>1</td>\n",
       "      <td>7</td>\n",
       "      <td>4</td>\n",
       "    </tr>\n",
       "  </tbody>\n",
       "</table>\n",
       "</div>"
      ],
      "text/plain": [
       "       0   1   2   3   4   5   6   7   8   9   10  11  12  13  14  15\n",
       "Anand   2   8   1   4   2   6   3   1   3   5   1   8   5   1   5   8\n",
       "Paris   2   8   1   4   2   7   3   1   3   5   1   2   5   1   7   4\n",
       "Megha   2   6   1   4   2   7   3   1   3   4   1   2   5   1   5   4\n",
       "Veni    2   8   5   4   2   6   3   1   3   5   1   2   5   1   5   8\n",
       "Priya   2   8   1   4   2   6   3   1   3   4   1   2   5   1   7   4"
      ]
     },
     "execution_count": 15,
     "metadata": {},
     "output_type": "execute_result"
    }
   ],
   "source": [
    "ipl2= ipl1.iloc[:,6:].replace(dict)\n",
    "\n",
    "ipl2= ipl2.transpose()\n",
    "\n",
    "ipl2.head()"
   ]
  },
  {
   "cell_type": "code",
   "execution_count": 18,
   "metadata": {},
   "outputs": [
    {
     "data": {
      "text/plain": [
       "['Anand',\n",
       " 'Paris',\n",
       " 'Megha',\n",
       " 'Veni',\n",
       " 'Priya',\n",
       " 'Ashok',\n",
       " 'G3R',\n",
       " 'Madhan',\n",
       " 'Raj',\n",
       " 'Thimma',\n",
       " 'Surajit',\n",
       " 'Naveen',\n",
       " 'Raghu',\n",
       " 'Manasa',\n",
       " 'Anil',\n",
       " 'Sridhar',\n",
       " 'Sanjeeth',\n",
       " 'Anand P',\n",
       " 'Diwakar',\n",
       " 'Manish',\n",
       " 'Murali']"
      ]
     },
     "execution_count": 18,
     "metadata": {},
     "output_type": "execute_result"
    }
   ],
   "source": [
    "names=list(ipl2.index.values)\n",
    "\n",
    "names"
   ]
  },
  {
   "cell_type": "code",
   "execution_count": 19,
   "metadata": {},
   "outputs": [
    {
     "data": {
      "image/png": "[encoded data removed]",
      "text/plain": [
       "<matplotlib.figure.Figure at 0xa6587b8>"
      ]
     },
     "metadata": {},
     "output_type": "display_data"
    },
    {
     "data": {
      "text/plain": [
       "<matplotlib.figure.Figure at 0xa690d30>"
      ]
     },
     "metadata": {},
     "output_type": "display_data"
    }
   ],
   "source": [
    "#normalized_ipl = normalize(ipl2)\n",
    "\n",
    "\n",
    "# Calculate the linkage: mergings\n",
    "mergings = linkage(ipl2,method='complete')\n",
    "\n",
    "\n",
    "# Plot the dendrogram, using names as labels\n",
    "dendrogram(mergings,\n",
    "           labels=names,\n",
    "           leaf_rotation=60,\n",
    "           leaf_font_size=12,\n",
    ")\n",
    "\n",
    "plt.figure(figsize=(80, 20))\n",
    "plt.show()"
   ]
  },
  {
   "cell_type": "code",
   "execution_count": null,
   "metadata": {
    "collapsed": true
   },
   "outputs": [],
   "source": []
  },
  {
   "cell_type": "code",
   "execution_count": null,
   "metadata": {
    "collapsed": true
   },
   "outputs": [],
   "source": []
  }
 ],
 "metadata": {
  "kernelspec": {
   "display_name": "Python 3",
   "language": "python",
   "name": "python3"
  },
  "language_info": {
   "codemirror_mode": {
    "name": "ipython",
    "version": 3
   },
   "file_extension": ".py",
   "mimetype": "text/x-python",
   "name": "python",
   "nbconvert_exporter": "python",
   "pygments_lexer": "ipython3",
   "version": "3.6.1"
  }
 },
 "nbformat": 4,
 "nbformat_minor": 2
}
